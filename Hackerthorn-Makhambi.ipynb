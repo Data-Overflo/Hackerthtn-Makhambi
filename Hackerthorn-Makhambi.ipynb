{
 "cells": [
  {
       "cell_type": "markdown",
   "id": "facc2413",
   "metadata": {},
   "source": [
    
    "### Overview\n",
    "\n",
    "South Africa is a multicultural society that is characterised by its rich linguistic diversity. Language is an indispensable tool that can be used to deepen democracy and also contribute to the social, cultural, intellectual, economic and political life of the South African society.\n",
    "\n",
    "The country is multilingual with 11 official languages, each of which is guaranteed equal status. Most South Africans are multilingual and able to speak at least two or more of the official languages.\n",
    "\n",
    "With such a multilingual population, it is only obvious that our systems and devices also communicate in multi-languages.\n",
    "\n",
    "In this challenge, you will take text which is in any of South Africa's 11 Official languages and identify which language the text is in. This is an example of NLP's Language Identification, the task of determining the natural language that a piece of text is written in.\n"
   ]
  },
  {
   "cell_type": "markdown",
   "id": "05600c92",
   "metadata": {},
   "source": [
    "<a id=\"cont\"></a>\n",
    "\n",
    "## Table of Contents\n",
    "\n",
    "<a href=#one>1. Importing Packages</a>\n",
    "\n",
    "<a href=#two>2. Loading Data</a>\n",
    "\n",
    "<a href=#three>3. Exploratory Data Analysis (EDA)</a>\n",
    "\n",
    "<a href=#four>4. Data Engineering</a>\n",
    "\n",
    "<a href=#five>5. Modeling</a>\n",
    "\n",
    "<a href=#six>6. Model Performance</a>\n",
    "\n",
    "<a href=#seven>7. Logging to Comet</a>\n",
    "\n",
    "<a href=#eight>8. Submission</a>"
   ]
  },
  {
   "cell_type": "markdown",
   "id": "997462e2",
   "metadata": {},
   "source": [
    " <a id=\"one\"></a>\n",
    "## 1. Importing Packages\n",
    "<a href=#cont>Back to Table of Contents</a>"
   ]
  },
  {
   "cell_type": "code",
   "execution_count": 74,
   "id": "39cf7139",
   "metadata": {},
   "outputs": [],
   "source": [
    "# import comet_ml at the top of your file\n",
    "from comet_ml import Experiment\n"
   ]
  },
  {
   "cell_type": "code",
   "execution_count": 75,
   "id": "d701348b",
   "metadata": {},
   "outputs": [
    {
     "name": "stderr",
     "output_type": "stream",
     "text": [
      "\u001b[1;38;5;39mCOMET INFO:\u001b[0m ---------------------------------------------------------------------------------------\n",
      "\u001b[1;38;5;39mCOMET INFO:\u001b[0m Comet.ml Experiment Summary\n",
      "\u001b[1;38;5;39mCOMET INFO:\u001b[0m ---------------------------------------------------------------------------------------\n",
      "\u001b[1;38;5;39mCOMET INFO:\u001b[0m   Data:\n",
      "\u001b[1;38;5;39mCOMET INFO:\u001b[0m     display_summary_level : 1\n",
      "\u001b[1;38;5;39mCOMET INFO:\u001b[0m     url                   : https://www.comet.com/makhambi/hackerthorn-makhambi/c1d7b71ef6414db78567c0632c51ee8d\n",
      "\u001b[1;38;5;39mCOMET INFO:\u001b[0m   Uploads:\n",
      "\u001b[1;38;5;39mCOMET INFO:\u001b[0m     environment details : 1\n",
      "\u001b[1;38;5;39mCOMET INFO:\u001b[0m     filename            : 1\n",
      "\u001b[1;38;5;39mCOMET INFO:\u001b[0m     installed packages  : 1\n",
      "\u001b[1;38;5;39mCOMET INFO:\u001b[0m     notebook            : 1\n",
      "\u001b[1;38;5;39mCOMET INFO:\u001b[0m     source_code         : 1\n",
      "\u001b[1;38;5;39mCOMET INFO:\u001b[0m \n"
     ]
    },
    {
     "name": "stderr",
     "output_type": "stream",
     "text": [
      "\u001b[1;38;5;214mCOMET WARNING:\u001b[0m Not all initial data has been logged for experiment c1d7b71ef6414db78567c0632c51ee8d, call Experiment.end() to ensure that all data to have been logged\n",
      "\u001b[1;38;5;214mCOMET WARNING:\u001b[0m As you are running in a Jupyter environment, you will need to call `experiment.end()` when finished to ensure all metrics and code are logged before exiting.\n",
      "\u001b[1;38;5;39mCOMET INFO:\u001b[0m Couldn't find a Git repository in 'c:\\\\Users\\\\Amkela Dlamini\\\\Music\\\\Classi\\\\hackathon\\\\hackathon' nor in any parent directory. Set `COMET_GIT_DIRECTORY` if your Git Repository is elsewhere.\n",
      "\u001b[1;38;5;39mCOMET INFO:\u001b[0m Experiment is live on comet.com https://www.comet.com/makhambi/hackerthorn-makhambi/606625adb36f4a999973a9095650cdde\n",
      "\n"
     ]
    }
   ],
   "source": [
    "# Create an experiment with your api key\n",
    "from comet_ml import Experiment\n",
    "from comet_ml.integration.pytorch import log_model\n",
    "\n",
    "experiment = Experiment(\n",
    "  api_key=\"nkmNyasqiRUDjtM7fLjvFimBN\",\n",
    "  project_name=\"hackerthorn-makhambi\",\n",
    "  workspace=\"makhambi\"\n",
    ")"
   ]
  },
  {
   "cell_type": "code",
   "execution_count": 76,
   "id": "475dbe93",
   "metadata": {
    "ExecuteTime": {
     "end_time": "2021-06-23T10:30:53.800892Z",
     "start_time": "2021-06-23T10:30:50.215449Z"
    }
   },
   "outputs": [
    {
     "name": "stderr",
     "output_type": "stream",
     "text": [
      "C:\\Users\\Amkela Dlamini\\AppData\\Local\\Temp\\ipykernel_12836\\2214389550.py:10: MatplotlibDeprecationWarning: The seaborn styles shipped by Matplotlib are deprecated since 3.6, as they no longer correspond to the styles shipped by seaborn. However, they will remain available as 'seaborn-v0_8-<style>'. Alternatively, directly use the seaborn API instead.\n",
      "  style.use('seaborn-pastel')\n",
      "C:\\Users\\Amkela Dlamini\\AppData\\Local\\Temp\\ipykernel_12836\\2214389550.py:11: MatplotlibDeprecationWarning: The seaborn styles shipped by Matplotlib are deprecated since 3.6, as they no longer correspond to the styles shipped by seaborn. However, they will remain available as 'seaborn-v0_8-<style>'. Alternatively, directly use the seaborn API instead.\n",
      "  style.use('seaborn-poster')\n"
     ]
    }
   ],
   "source": [
    "# Libraries for data loading, data manipulation and data visulisation\n",
    "import string\n",
    "import numpy as np\n",
    "import pandas as pd\n",
    "import html\n",
    "import seaborn as sns\n",
    "import matplotlib.pyplot as plt\n",
    "import matplotlib.style as style\n",
    "sns.set(font_scale=1.5)\n",
    "style.use('seaborn-pastel')\n",
    "style.use('seaborn-poster')\n",
    "from PIL import Image\n",
    "from wordcloud import WordCloud\n",
    "\n",
    "# Some Conventional Libraries for Natrual Language processing\n",
    "import re\n",
    "import csv\n",
    "import nltk\n",
    "import pickle\n",
    "\n",
    "\n",
    "# Libraries for data preparation and model building\n",
    "# Preprocessing tools\n",
    "from sklearn.preprocessing import LabelEncoder\n",
    "\n",
    "#Basic sklearn tools\n",
    "from sklearn.feature_extraction.text import CountVectorizer   \n",
    "from sklearn.feature_extraction.text import TfidfVectorizer\n",
    "from sklearn.feature_extraction.text import TfidfTransformer \n",
    "from sklearn.model_selection import train_test_split, RandomizedSearchCV\n",
    "\n",
    "# Building classification models\n",
    "from sklearn.svm import LinearSVC\n",
    "from sklearn.pipeline import Pipeline\n",
    "from sklearn.naive_bayes import MultinomialNB\n",
    "from sklearn.naive_bayes import GaussianNB\n",
    "from sklearn.neighbors import KNeighborsClassifier\n",
    "from sklearn.ensemble import RandomForestClassifier\n",
    "from sklearn.linear_model import LogisticRegression\n",
    "\n",
    "# Libraries for Model evaluation\n",
    "from sklearn.metrics import classification_report, f1_score, precision_score, recall_score"
   ]
  },
  {
   "cell_type": "markdown",
   "id": "f22a6718",
   "metadata": {},
   "source": [
    "<a id=\"two\"></a>\n",
    "## 2. Loading the Data\n",
    "<a class=\"anchor\" id=\"1.1\"></a>\n",
    "<a href=#cont>Back to Table of Contents</a>"
   ]
  },
  {
   "cell_type": "code",
   "execution_count": 77,
   "id": "fbbb6c18",
   "metadata": {
    "ExecuteTime": {
     "end_time": "2021-06-28T08:49:35.311495Z",
     "start_time": "2021-06-28T08:49:35.295494Z"
    }
   },
   "outputs": [],
   "source": [
    "# load the data\n",
    "train = pd.read_csv('train_set.csv')"
   ]
  },
  {
   "cell_type": "markdown",
   "id": "81132ab3",
   "metadata": {},
   "source": [
    "<a id=\"three\"></a>\n",
    "## 3. Exploratory Data Analysis (EDA)\n",
    "<a class=\"anchor\" id=\"1.1\"></a>\n",
    "<a href=#cont>Back to Table of Contents</a>\n"
   ]
  },
  {
   "cell_type": "code",
   "execution_count": 78,
   "id": "e805134e",
   "metadata": {
    "ExecuteTime": {
     "end_time": "2021-06-28T08:52:37.824204Z",
     "start_time": "2021-06-28T08:52:37.811206Z"
    }
   },
   "outputs": [
    {
     "data": {
      "text/html": [
       "<div>\n",
       "<style scoped>\n",
       "    .dataframe tbody tr th:only-of-type {\n",
       "        vertical-align: middle;\n",
       "    }\n",
       "\n",
       "    .dataframe tbody tr th {\n",
       "        vertical-align: top;\n",
       "    }\n",
       "\n",
       "    .dataframe thead th {\n",
       "        text-align: right;\n",
       "    }\n",
       "</style>\n",
       "<table border=\"1\" class=\"dataframe\">\n",
       "  <thead>\n",
       "    <tr style=\"text-align: right;\">\n",
       "      <th></th>\n",
       "      <th>lang_id</th>\n",
       "      <th>text</th>\n",
       "    </tr>\n",
       "  </thead>\n",
       "  <tbody>\n",
       "    <tr>\n",
       "      <th>0</th>\n",
       "      <td>xho</td>\n",
       "      <td>umgaqo-siseko wenza amalungiselelo kumaziko ax...</td>\n",
       "    </tr>\n",
       "    <tr>\n",
       "      <th>1</th>\n",
       "      <td>xho</td>\n",
       "      <td>i-dha iya kuba nobulumko bokubeka umsebenzi na...</td>\n",
       "    </tr>\n",
       "    <tr>\n",
       "      <th>2</th>\n",
       "      <td>eng</td>\n",
       "      <td>the province of kwazulu-natal department of tr...</td>\n",
       "    </tr>\n",
       "    <tr>\n",
       "      <th>3</th>\n",
       "      <td>nso</td>\n",
       "      <td>o netefatša gore o ba file dilo ka moka tše le...</td>\n",
       "    </tr>\n",
       "    <tr>\n",
       "      <th>4</th>\n",
       "      <td>ven</td>\n",
       "      <td>khomishini ya ndinganyiso ya mbeu yo ewa maana...</td>\n",
       "    </tr>\n",
       "  </tbody>\n",
       "</table>\n",
       "</div>"
      ],
      "text/plain": [
       "  lang_id                                               text\n",
       "0     xho  umgaqo-siseko wenza amalungiselelo kumaziko ax...\n",
       "1     xho  i-dha iya kuba nobulumko bokubeka umsebenzi na...\n",
       "2     eng  the province of kwazulu-natal department of tr...\n",
       "3     nso  o netefatša gore o ba file dilo ka moka tše le...\n",
       "4     ven  khomishini ya ndinganyiso ya mbeu yo ewa maana..."
      ]
     },
     "execution_count": 78,
     "metadata": {},
     "output_type": "execute_result"
    }
   ],
   "source": [
    "# look at data statistics\n",
    "train.head()"
   ]
  },
  {
   "cell_type": "code",
   "execution_count": 79,
   "id": "1221014e",
   "metadata": {},
   "outputs": [
    {
     "name": "stdout",
     "output_type": "stream",
     "text": [
      "<class 'pandas.core.frame.DataFrame'>\n",
      "RangeIndex: 33000 entries, 0 to 32999\n",
      "Data columns (total 2 columns):\n",
      " #   Column   Non-Null Count  Dtype \n",
      "---  ------   --------------  ----- \n",
      " 0   lang_id  33000 non-null  object\n",
      " 1   text     33000 non-null  object\n",
      "dtypes: object(2)\n",
      "memory usage: 515.8+ KB\n"
     ]
    }
   ],
   "source": [
    "train.info()"
   ]
  },
  {
   "cell_type": "markdown",
   "id": "2f4d4ecf",
   "metadata": {},
   "source": [
    "From the above observation, it can be seen that the train dataset does not contain any missing or null values."
   ]
  },
  {
   "cell_type": "code",
   "execution_count": 80,
   "id": "51c9e181",
   "metadata": {},
   "outputs": [
    {
     "data": {
      "text/plain": [
       "xho    3000\n",
       "eng    3000\n",
       "nso    3000\n",
       "ven    3000\n",
       "tsn    3000\n",
       "nbl    3000\n",
       "zul    3000\n",
       "ssw    3000\n",
       "tso    3000\n",
       "sot    3000\n",
       "afr    3000\n",
       "Name: lang_id, dtype: int64"
      ]
     },
     "execution_count": 80,
     "metadata": {},
     "output_type": "execute_result"
    }
   ],
   "source": [
    "train['lang_id'].value_counts()"
   ]
  },
  {
   "cell_type": "markdown",
   "id": "387ef972",
   "metadata": {},
   "source": [
    "By doing the value counts of the language id, it is obvious that the dataset is balanced and it therefore does not need resampling.\n"
   ]
  },
  {
   "cell_type": "code",
   "execution_count": 81,
   "id": "756561c2",
   "metadata": {},
   "outputs": [
    {
     "data": {
      "text/plain": [
       "<Axes: >"
      ]
     },
     "execution_count": 81,
     "metadata": {},
     "output_type": "execute_result"
    },
    {
     "data": {
      "image/png": "[encoded data removed]",
      "text/plain": [
       "<Figure size 1280x880 with 1 Axes>"
      ]
     },
     "metadata": {},
     "output_type": "display_data"
    }
   ],
   "source": [
    "train['lang_id'].value_counts().plot(kind='bar')"
   ]
  },
  {
   "cell_type": "markdown",
   "id": "3fa93ec6",
   "metadata": {},
   "source": [
    "<a id=\"four\"></a>\n",
    "## 4. Data Engineering\n",
    "<a class=\"anchor\" id=\"1.1\"></a>\n",
    "<a href=#cont>Back to Table of Contents</a>\n"
   ]
  },
  {
   "cell_type": "code",
   "execution_count": 82,
   "id": "059c2f3e",
   "metadata": {},
   "outputs": [
    {
     "data": {
      "text/html": [
       "<div>\n",
       "<style scoped>\n",
       "    .dataframe tbody tr th:only-of-type {\n",
       "        vertical-align: middle;\n",
       "    }\n",
       "\n",
       "    .dataframe tbody tr th {\n",
       "        vertical-align: top;\n",
       "    }\n",
       "\n",
       "    .dataframe thead th {\n",
       "        text-align: right;\n",
       "    }\n",
       "</style>\n",
       "<table border=\"1\" class=\"dataframe\">\n",
       "  <thead>\n",
       "    <tr style=\"text-align: right;\">\n",
       "      <th></th>\n",
       "      <th>lang_id</th>\n",
       "      <th>text</th>\n",
       "    </tr>\n",
       "  </thead>\n",
       "  <tbody>\n",
       "    <tr>\n",
       "      <th>0</th>\n",
       "      <td>xho</td>\n",
       "      <td>umgaqosiseko wenza amalungiselelo kumaziko axh...</td>\n",
       "    </tr>\n",
       "    <tr>\n",
       "      <th>1</th>\n",
       "      <td>xho</td>\n",
       "      <td>idha iya kuba nobulumko bokubeka umsebenzi nap...</td>\n",
       "    </tr>\n",
       "    <tr>\n",
       "      <th>2</th>\n",
       "      <td>eng</td>\n",
       "      <td>the province of kwazulunatal department of tra...</td>\n",
       "    </tr>\n",
       "    <tr>\n",
       "      <th>3</th>\n",
       "      <td>nso</td>\n",
       "      <td>o netefatša gore o ba file dilo ka moka tše le...</td>\n",
       "    </tr>\n",
       "    <tr>\n",
       "      <th>4</th>\n",
       "      <td>ven</td>\n",
       "      <td>khomishini ya ndinganyiso ya mbeu yo ewa maana...</td>\n",
       "    </tr>\n",
       "  </tbody>\n",
       "</table>\n",
       "</div>"
      ],
      "text/plain": [
       "  lang_id                                               text\n",
       "0     xho  umgaqosiseko wenza amalungiselelo kumaziko axh...\n",
       "1     xho  idha iya kuba nobulumko bokubeka umsebenzi nap...\n",
       "2     eng  the province of kwazulunatal department of tra...\n",
       "3     nso  o netefatša gore o ba file dilo ka moka tše le...\n",
       "4     ven  khomishini ya ndinganyiso ya mbeu yo ewa maana..."
      ]
     },
     "execution_count": 82,
     "metadata": {},
     "output_type": "execute_result"
    }
   ],
   "source": [
    "# remove punctuations\n",
    "\n",
    "for i in range (len(train['text'])):\n",
    "    train['text'][i]=re.sub(r\"(@[A-Za-z0-9_]+)|[^\\w\\s]|http\\S+\",\"\",train['text'][i])\n",
    "train.head()"
   ]
  },
  {
   "cell_type": "code",
   "execution_count": 83,
   "id": "84eea17b",
   "metadata": {},
   "outputs": [],
   "source": [
    "lang_labels = list(train['lang_id'].unique())"
   ]
  },
  {
   "cell_type": "markdown",
   "id": "43b2d523",
   "metadata": {},
   "source": [
    "<a id=\"five\"></a>\n",
    "## 5. Modelling\n",
    "<a class=\"anchor\" id=\"1.1\"></a>\n",
    "<a href=#cont>Back to Table of Contents</a>\n"
   ]
  },
  {
   "cell_type": "code",
   "execution_count": 84,
   "id": "9c58df02",
   "metadata": {},
   "outputs": [],
   "source": [
    "# create targets and features dataset\n",
    "X = train['text']   \n",
    "y = train['lang_id']  "
   ]
  },
  {
   "cell_type": "code",
   "execution_count": 85,
   "id": "044fefe1",
   "metadata": {},
   "outputs": [],
   "source": [
    "# split data\n",
    "X_train, X_valid, y_train, y_valid = train_test_split(X, y, test_size=0.35, random_state=25)"
   ]
  },
  {
   "cell_type": "markdown",
   "id": "c3b40095",
   "metadata": {},
   "source": [
    "## Create one or more ML models"
   ]
  },
  {
   "cell_type": "markdown",
   "id": "bb832a56",
   "metadata": {},
   "source": [
    "### Pipelines\n",
    "\n",
    "The purpose of the pipeline is to assemble several steps that can be cross-validated together while setting different parameters.\n",
    "\n",
    "For this, it enables setting parameters of the various steps using their names and the parameter name \n",
    "\n",
    "\n",
    "### TfidfVectorizer\n",
    "\n",
    "The TFIDF vectorizer assigns word frequency scores that try to highlight words that are more interesting, e.g. frequent in a document but not across documents.\n",
    "\n",
    "The TfidfVectorizer will tokenize documents, learn the vocabulary and inverse document frequency weightings, and allow you to encode new documents.\n",
    "\n",
    "Another advantage of this method is that the resulting vectors are already scaled.\n"
   ]
  },
  {
   "cell_type": "markdown",
   "id": "4ee973c4",
   "metadata": {},
   "source": [
    "##### Logistic Regression Model"
   ]
  },
  {
   "cell_type": "code",
   "execution_count": 86,
   "id": "c5221b8b",
   "metadata": {},
   "outputs": [],
   "source": [
    "logreg = Pipeline([('tfidf', TfidfVectorizer()),\n",
    "                   ('clf', LogisticRegression(C=1, max_iter=100, multi_class='multinomial', class_weight='balanced'))])"
   ]
  },
  {
   "cell_type": "markdown",
   "id": "725f15c5",
   "metadata": {},
   "source": [
    "##### Linear SVC"
   ]
  },
  {
   "cell_type": "code",
   "execution_count": 87,
   "id": "e4d49069",
   "metadata": {},
   "outputs": [],
   "source": [
    "# Linear SVC:\n",
    "lsvc = Pipeline([('tfidf', TfidfVectorizer()),\n",
    "                 ('clf', LinearSVC(max_iter=100,class_weight='balanced'))])\n"
   ]
  },
  {
   "cell_type": "markdown",
   "id": "84a456a4",
   "metadata": {},
   "source": [
    "##### Naive Bayes"
   ]
  },
  {
   "cell_type": "code",
   "execution_count": 88,
   "id": "aaadf13b",
   "metadata": {},
   "outputs": [],
   "source": [
    "# Naïve Bayes:\n",
    "nb = Pipeline([('tfidf', TfidfVectorizer()),\n",
    "               ('clf', MultinomialNB())])"
   ]
  },
  {
   "cell_type": "markdown",
   "id": "1528e1a8",
   "metadata": {},
   "source": [
    "##### Random Forest"
   ]
  },
  {
   "cell_type": "code",
   "execution_count": 89,
   "id": "5ca3d6eb",
   "metadata": {},
   "outputs": [],
   "source": [
    "# Random Forest Classifier\n",
    "rf = Pipeline([('tfidf', TfidfVectorizer()),\n",
    "               ('clf', RandomForestClassifier(max_depth=10, \n",
    "                                              n_estimators=1000, random_state=42))])\n"
   ]
  },
  {
   "cell_type": "markdown",
   "id": "705061eb",
   "metadata": {},
   "source": [
    "##### K Nearest Neighbour"
   ]
  },
  {
   "cell_type": "code",
   "execution_count": 90,
   "id": "ea877245",
   "metadata": {},
   "outputs": [],
   "source": [
    "# Random Forest Classifier\n",
    "knn = Pipeline([('tfidf', TfidfVectorizer()),\n",
    "               ('clf', KNeighborsClassifier(n_neighbors=5))])\n"
   ]
  },
  {
   "cell_type": "markdown",
   "id": "4d6706b2",
   "metadata": {},
   "source": [
    "##### Linear SVC Optimised by Tuning"
   ]
  },
  {
   "cell_type": "code",
   "execution_count": 91,
   "id": "f566ddef",
   "metadata": {},
   "outputs": [],
   "source": [
    "lsvc_op = Pipeline([('tfidf', TfidfVectorizer(max_df=0.8, min_df=2, ngram_range=(1,2))),\n",
    "                  ('clf', LinearSVC(C=0.3, class_weight='balanced', max_iter=100))])"
   ]
  },
  {
   "cell_type": "markdown",
   "id": "3aec4030",
   "metadata": {},
   "source": [
    "## Training the models"
   ]
  },
  {
   "cell_type": "markdown",
   "id": "c8641734",
   "metadata": {},
   "source": [
    "##### Logistic Regression Model"
   ]
  },
  {
   "cell_type": "code",
   "execution_count": 92,
   "id": "89ee8848",
   "metadata": {},
   "outputs": [],
   "source": [
    "logreg.fit(X_train, y_train)\n",
    "y_pred_logreg = logreg.predict(X_valid)\n",
    "\n",
    "\n",
    "##### Saving the Logistic regression model\n",
    "lr_save_path = \"logistic_regression.pkl\"\n",
    "with open(lr_save_path,'wb') as lr_file:\n",
    "    pickle.dump(logreg, lr_file)\n"
   ]
  },
  {
   "cell_type": "markdown",
   "id": "891a58fa",
   "metadata": {},
   "source": [
    "##### Linear SVC"
   ]
  },
  {
   "cell_type": "code",
   "execution_count": 93,
   "id": "55de8c1e",
   "metadata": {},
   "outputs": [
    {
     "name": "stderr",
     "output_type": "stream",
     "text": [
      "C:\\Users\\Amkela Dlamini\\AppData\\Roaming\\Python\\Python311\\site-packages\\sklearn\\svm\\_classes.py:31: FutureWarning: The default value of `dual` will change from `True` to `'auto'` in 1.5. Set the value of `dual` explicitly to suppress the warning.\n",
      "  warnings.warn(\n"
     ]
    }
   ],
   "source": [
    "##### Linear SVC\n",
    "lsvc.fit(X_train, y_train)\n",
    "y_pred_lsvc = lsvc.predict(X_valid)\n",
    "\n",
    "\n",
    "##### Saving the Linear SVC model\n",
    "lsvc_save_path = \"linear_svc.pkl\"\n",
    "with open(lsvc_save_path,'wb') as lsvc_file:\n",
    "    pickle.dump(lsvc, lsvc_file)\n"
   ]
  },
  {
   "cell_type": "markdown",
   "id": "cf59b2c2",
   "metadata": {},
   "source": [
    "##### Naive Bayes"
   ]
  },
  {
   "cell_type": "code",
   "execution_count": 94,
   "id": "6891b748",
   "metadata": {},
   "outputs": [],
   "source": [
    "##### Naive bayes\n",
    "nb.fit(X_train, y_train)\n",
    "y_pred_nb = nb.predict(X_valid)\n",
    "\n",
    "\n",
    "##### Saving the Naive Bayes model\n",
    "nb_save_path = \"naive_bayes.pkl\"\n",
    "with open(nb_save_path,'wb') as nb_file:\n",
    "    pickle.dump(nb, nb_file)\n"
   ]
  },
  {
   "cell_type": "markdown",
   "id": "c0e93788",
   "metadata": {},
   "source": [
    "##### Random Forest Model"
   ]
  },
  {
   "cell_type": "code",
   "execution_count": 95,
   "id": "dce8e53d",
   "metadata": {},
   "outputs": [],
   "source": [
    "###### Random forest \n",
    "rf.fit(X_train, y_train)\n",
    "y_pred_rf = rf.predict(X_valid)\n",
    "\n",
    "\n",
    "##### Saving the Random Forest model\n",
    "rf_save_path = \"random_forest.pkl\"\n",
    "with open(rf_save_path,'wb') as rf_file:\n",
    "    pickle.dump(rf, rf_file)\n"
   ]
  },
  {
   "cell_type": "markdown",
   "id": "90d1be94",
   "metadata": {},
   "source": [
    "##### K Nearest Neighbour"
   ]
  },
  {
   "cell_type": "code",
   "execution_count": 96,
   "id": "ff8412a6",
   "metadata": {},
   "outputs": [],
   "source": [
    "##### Fit and predict\n",
    "knn.fit(X_train, y_train)\n",
    "y_pred_knn = knn.predict(X_valid)\n",
    "\n",
    "##### Saving the K Nearest Neighbour model\n",
    "knn_save_path = \"lsvc_knn.pkl\"\n",
    "with open(knn_save_path,'wb') as knn_file:\n",
    "    pickle.dump(knn, knn_file)"
   ]
  },
  {
   "cell_type": "markdown",
   "id": "4d6706b2",
   "metadata": {},
   "source": [
    "##### Linear SVC Optimised by Tuning"
   ]
  },
  {
   "cell_type": "code",
   "execution_count": 97,
   "id": "a32d9227",
   "metadata": {},
   "outputs": [
    {
     "name": "stderr",
     "output_type": "stream",
     "text": [
      "C:\\Users\\Amkela Dlamini\\AppData\\Roaming\\Python\\Python311\\site-packages\\sklearn\\svm\\_classes.py:31: FutureWarning: The default value of `dual` will change from `True` to `'auto'` in 1.5. Set the value of `dual` explicitly to suppress the warning.\n",
      "  warnings.warn(\n"
     ]
    }
   ],
   "source": [
    "##### Fit and predict\n",
    "lsvc_op.fit(X_train, y_train)\n",
    "y_pred = lsvc_op.predict(X_valid)\n",
    "\n",
    "##### Saving the K Nearest Neighbour model\n",
    "lsvc_op_save_path = \"lsvc.pkl\"\n",
    "with open(lsvc_op_save_path,'wb') as lsvc_op_file:\n",
    "    pickle.dump(lsvc_op, lsvc_op_file)"
   ]
  },
  {
   "cell_type": "code",
   "execution_count": null,
   "id": "24b217a9",
   "metadata": {},
   "outputs": [],
   "source": []
  },
  {
   "cell_type": "markdown",
   "id": "6b530251",
   "metadata": {},
   "source": [
    "<a id=\"six\"></a>\n",
    "## 6. Model Performance\n",
    "<a class=\"anchor\" id=\"1.1\"></a>\n",
    "<a href=#cont>Back to Table of Contents</a>\n"
   ]
  },
  {
   "cell_type": "markdown",
   "id": "3ad89c9e",
   "metadata": {},
   "source": [
    "##### Logistic Regression Model"
   ]
  },
  {
   "cell_type": "code",
   "execution_count": 98,
   "id": "6a69b5a1",
   "metadata": {},
   "outputs": [
    {
     "name": "stdout",
     "output_type": "stream",
     "text": [
      "f1 =  0.9955863621091628\n",
      "recall =  0.9955844155844156\n",
      "precision =  0.9956074917531835\n",
      "\n",
      "\n",
      "\n",
      "\n",
      "Classification Report\n",
      "              precision    recall  f1-score   support\n",
      "\n",
      "         afr       1.00      1.00      1.00      1044\n",
      "         eng       1.00      1.00      1.00      1056\n",
      "         nbl       0.99      0.98      0.99      1054\n",
      "         nso       1.00      1.00      1.00      1079\n",
      "         sot       1.00      1.00      1.00      1091\n",
      "         ssw       0.99      1.00      0.99      1042\n",
      "         tsn       1.00      1.00      1.00      1021\n",
      "         tso       1.00      1.00      1.00      1058\n",
      "         ven       1.00      1.00      1.00      1066\n",
      "         xho       0.98      1.00      0.99      1007\n",
      "         zul       0.98      0.98      0.98      1032\n",
      "\n",
      "    accuracy                           1.00     11550\n",
      "   macro avg       1.00      1.00      1.00     11550\n",
      "weighted avg       1.00      1.00      1.00     11550\n",
      "\n"
     ]
    }
   ],
   "source": [
    "# Model performance\n",
    "f1 = f1_score(y_valid, y_pred_logreg, average='weighted')\n",
    "precision = precision_score(y_valid, y_pred_logreg, average='weighted')\n",
    "recall = recall_score(y_valid, y_pred_logreg, average='weighted')\n",
    "\n",
    "\n",
    "print(\"f1 = \", f1)\n",
    "print(\"recall = \", recall)\n",
    "print(\"precision = \", precision)\n",
    "print(\"\\n\\n\\n\\nClassification Report\")\n",
    "print(classification_report(y_valid, y_pred_logreg))"
   ]
  },
  {
   "cell_type": "markdown",
   "id": "891a58fa",
   "metadata": {},
   "source": [
    "##### Linear SVC"
   ]
  },
  {
   "cell_type": "code",
   "execution_count": 99,
   "id": "90629c88",
   "metadata": {},
   "outputs": [
    {
     "name": "stdout",
     "output_type": "stream",
     "text": [
      "f1 =  0.9980955458672306\n",
      "recall =  0.9980952380952381\n",
      "precision =  0.9980997729720182\n",
      "\n",
      "\n",
      "\n",
      "\n",
      "Classification Report\n",
      "              precision    recall  f1-score   support\n",
      "\n",
      "         afr       1.00      1.00      1.00      1044\n",
      "         eng       1.00      1.00      1.00      1056\n",
      "         nbl       1.00      0.99      0.99      1054\n",
      "         nso       1.00      1.00      1.00      1079\n",
      "         sot       1.00      1.00      1.00      1091\n",
      "         ssw       1.00      1.00      1.00      1042\n",
      "         tsn       1.00      1.00      1.00      1021\n",
      "         tso       1.00      1.00      1.00      1058\n",
      "         ven       1.00      1.00      1.00      1066\n",
      "         xho       0.99      1.00      1.00      1007\n",
      "         zul       0.99      0.99      0.99      1032\n",
      "\n",
      "    accuracy                           1.00     11550\n",
      "   macro avg       1.00      1.00      1.00     11550\n",
      "weighted avg       1.00      1.00      1.00     11550\n",
      "\n"
     ]
    }
   ],
   "source": [
    "# Model performance\n",
    "f1 = f1_score(y_valid, y_pred_lsvc, average='weighted')\n",
    "precision = precision_score(y_valid, y_pred_lsvc, average='weighted')\n",
    "recall = recall_score(y_valid, y_pred_lsvc, average='weighted')\n",
    "\n",
    "\n",
    "print(\"f1 = \", f1)\n",
    "print(\"recall = \", recall)\n",
    "print(\"precision = \", precision)\n",
    "print(\"\\n\\n\\n\\nClassification Report\")\n",
    "print(classification_report(y_valid, y_pred_lsvc))"
   ]
  },
  {
   "cell_type": "markdown",
   "id": "cf59b2c2",
   "metadata": {},
   "source": [
    "##### Naive Bayes"
   ]
  },
  {
   "cell_type": "code",
   "execution_count": 100,
   "id": "79ef085e",
   "metadata": {},
   "outputs": [
    {
     "name": "stdout",
     "output_type": "stream",
     "text": [
      "f1 =  0.9990477727370137\n",
      "recall =  0.9990476190476191\n",
      "precision =  0.9990496615137584\n",
      "\n",
      "\n",
      "\n",
      "\n",
      "Classification Report\n",
      "              precision    recall  f1-score   support\n",
      "\n",
      "         afr       1.00      1.00      1.00      1044\n",
      "         eng       1.00      1.00      1.00      1056\n",
      "         nbl       1.00      1.00      1.00      1054\n",
      "         nso       1.00      1.00      1.00      1079\n",
      "         sot       1.00      1.00      1.00      1091\n",
      "         ssw       1.00      1.00      1.00      1042\n",
      "         tsn       1.00      1.00      1.00      1021\n",
      "         tso       1.00      1.00      1.00      1058\n",
      "         ven       1.00      1.00      1.00      1066\n",
      "         xho       1.00      1.00      1.00      1007\n",
      "         zul       1.00      1.00      1.00      1032\n",
      "\n",
      "    accuracy                           1.00     11550\n",
      "   macro avg       1.00      1.00      1.00     11550\n",
      "weighted avg       1.00      1.00      1.00     11550\n",
      "\n"
     ]
    }
   ],
   "source": [
    "# Model performance\n",
    "f1 = f1_score(y_valid, y_pred_nb, average='weighted')\n",
    "precision = precision_score(y_valid, y_pred_nb, average='weighted')\n",
    "recall = recall_score(y_valid, y_pred_nb, average='weighted')\n",
    "\n",
    "\n",
    "print(\"f1 = \", f1)\n",
    "print(\"recall = \", recall)\n",
    "print(\"precision = \", precision)\n",
    "print(\"\\n\\n\\n\\nClassification Report\")\n",
    "print(classification_report(y_valid, y_pred_nb))"
   ]
  },
  {
   "cell_type": "markdown",
   "id": "c0e93788",
   "metadata": {},
   "source": [
    "##### Random Forest Model"
   ]
  },
  {
   "cell_type": "code",
   "execution_count": 101,
   "id": "901f0669",
   "metadata": {},
   "outputs": [
    {
     "name": "stdout",
     "output_type": "stream",
     "text": [
      "f1 =  0.9646902799093245\n",
      "recall =  0.9645887445887446\n",
      "precision =  0.966418106738546\n",
      "\n",
      "\n",
      "\n",
      "\n",
      "Classification Report\n",
      "              precision    recall  f1-score   support\n",
      "\n",
      "         afr       1.00      1.00      1.00      1044\n",
      "         eng       0.98      1.00      0.99      1056\n",
      "         nbl       0.97      0.86      0.91      1054\n",
      "         nso       1.00      0.99      1.00      1079\n",
      "         sot       1.00      1.00      1.00      1091\n",
      "         ssw       0.97      0.91      0.94      1042\n",
      "         tsn       0.99      1.00      1.00      1021\n",
      "         tso       1.00      1.00      1.00      1058\n",
      "         ven       1.00      1.00      1.00      1066\n",
      "         xho       0.84      0.97      0.90      1007\n",
      "         zul       0.88      0.87      0.88      1032\n",
      "\n",
      "    accuracy                           0.96     11550\n",
      "   macro avg       0.97      0.96      0.96     11550\n",
      "weighted avg       0.97      0.96      0.96     11550\n",
      "\n"
     ]
    }
   ],
   "source": [
    "# Model performance\n",
    "f1 = f1_score(y_valid, y_pred_rf, average='weighted')\n",
    "precision = precision_score(y_valid, y_pred_rf, average='weighted')\n",
    "recall = recall_score(y_valid, y_pred_rf, average='weighted')\n",
    "\n",
    "\n",
    "print(\"f1 = \", f1)\n",
    "print(\"recall = \", recall)\n",
    "print(\"precision = \", precision)\n",
    "print(\"\\n\\n\\n\\nClassification Report\")\n",
    "print(classification_report(y_valid, y_pred_rf))"
   ]
  },
  {
   "cell_type": "markdown",
   "id": "705061eb",
   "metadata": {},
   "source": [
    "##### K Nearest Neighbour"
   ]
  },
  {
   "cell_type": "code",
   "execution_count": 102,
   "id": "fe7df9bd",
   "metadata": {},
   "outputs": [
    {
     "name": "stdout",
     "output_type": "stream",
     "text": [
      "f1 =  0.9643189894169216\n",
      "recall =  0.9645887445887446\n",
      "precision =  0.9647091955374038\n",
      "\n",
      "\n",
      "\n",
      "\n",
      "Classification Report\n",
      "              precision    recall  f1-score   support\n",
      "\n",
      "         afr       1.00      1.00      1.00      1044\n",
      "         eng       0.98      1.00      0.99      1056\n",
      "         nbl       0.90      0.95      0.92      1054\n",
      "         nso       0.95      0.98      0.96      1079\n",
      "         sot       0.98      0.99      0.98      1091\n",
      "         ssw       0.96      0.97      0.96      1042\n",
      "         tsn       0.97      0.95      0.96      1021\n",
      "         tso       0.98      1.00      0.99      1058\n",
      "         ven       1.00      1.00      1.00      1066\n",
      "         xho       0.95      0.91      0.93      1007\n",
      "         zul       0.95      0.86      0.91      1032\n",
      "\n",
      "    accuracy                           0.96     11550\n",
      "   macro avg       0.96      0.96      0.96     11550\n",
      "weighted avg       0.96      0.96      0.96     11550\n",
      "\n"
     ]
    }
   ],
   "source": [
    "# Model performance\n",
    "f1 = f1_score(y_valid, y_pred_knn, average='weighted')\n",
    "precision = precision_score(y_valid, y_pred_knn, average='weighted')\n",
    "recall = recall_score(y_valid, y_pred_knn, average='weighted')\n",
    "\n",
    "\n",
    "print(\"f1 = \", f1)\n",
    "print(\"recall = \", recall)\n",
    "print(\"precision = \", precision)\n",
    "print(\"\\n\\n\\n\\nClassification Report\")\n",
    "print(classification_report(y_valid, y_pred_knn))"
   ]
  },
  {
   "cell_type": "markdown",
   "id": "4d6706b2",
   "metadata": {},
   "source": [
    "##### Optimised model by Tuning"
   ]
  },
  {
   "cell_type": "code",
   "execution_count": 103,
   "id": "fb039233",
   "metadata": {},
   "outputs": [
    {
     "name": "stdout",
     "output_type": "stream",
     "text": [
      "f1 =  0.9976614996066371\n",
      "recall =  0.9976623376623377\n",
      "precision =  0.9976627521958363\n",
      "\n",
      "\n",
      "\n",
      "\n",
      "Classification Report\n",
      "              precision    recall  f1-score   support\n",
      "\n",
      "         afr       1.00      1.00      1.00      1044\n",
      "         eng       1.00      1.00      1.00      1056\n",
      "         nbl       1.00      0.99      0.99      1054\n",
      "         nso       1.00      1.00      1.00      1079\n",
      "         sot       1.00      1.00      1.00      1091\n",
      "         ssw       1.00      1.00      1.00      1042\n",
      "         tsn       1.00      1.00      1.00      1021\n",
      "         tso       1.00      1.00      1.00      1058\n",
      "         ven       1.00      1.00      1.00      1066\n",
      "         xho       0.99      1.00      0.99      1007\n",
      "         zul       0.99      0.99      0.99      1032\n",
      "\n",
      "    accuracy                           1.00     11550\n",
      "   macro avg       1.00      1.00      1.00     11550\n",
      "weighted avg       1.00      1.00      1.00     11550\n",
      "\n"
     ]
    }
   ],
   "source": [
    "# Model performance\n",
    "f1 = f1_score(y_valid, y_pred, average='weighted')\n",
    "precision = precision_score(y_valid, y_pred, average='weighted')\n",
    "recall = recall_score(y_valid, y_pred, average='weighted')\n",
    "\n",
    "\n",
    "print(\"f1 = \", f1)\n",
    "print(\"recall = \", recall)\n",
    "print(\"precision = \", precision)\n",
    "print(\"\\n\\n\\n\\nClassification Report\")\n",
    "print(classification_report(y_valid, y_pred))"
   ]
  },
  {
   "cell_type": "markdown",
   "id": "a17651ff",
   "metadata": {},
   "source": [
    " <a id=\"seven\"></a>\n",
    "## 7. Logging to Comet.\n",
    "<a href=#cont>Back to Table of Contents</a>\n"
   ]
  },
  {
   "cell_type": "code",
   "execution_count": 104,
   "id": "3f29b925",
   "metadata": {},
   "outputs": [],
   "source": [
    "# Create dictionaries for the data we want to log\n",
    "\n",
    "params = {\"random_state\": 42,\n",
    "          \"model_type\": \"lsvc_op\",\n",
    "          \"max_df\": 0.8,\n",
    "          \"min_df\": 2,\n",
    "          \"ngram_range\": (1, 3),\n",
    "          \"C\": 0.3,\n",
    "           \"class_weight\": \"balanced\",\n",
    "          \"max_iter\": 10000\n",
    "          }\n",
    "\n",
    "metrics = {\"f1\": f1,\n",
    "           \"recall\": recall,\n",
    "           \"precision\": precision\n",
    "           }"
   ]
  },
  {
   "cell_type": "code",
   "execution_count": 105,
   "id": "42167a25",
   "metadata": {},
   "outputs": [],
   "source": [
    "# Log our parameters and results\n",
    "experiment.log_parameters(params)\n",
    "experiment.log_metrics(metrics)"
   ]
  },
  {
   "cell_type": "code",
   "execution_count": 106,
   "id": "d0d504b5",
   "metadata": {},
   "outputs": [
    {
     "name": "stderr",
     "output_type": "stream",
     "text": [
      "\u001b[1;38;5;39mCOMET INFO:\u001b[0m ---------------------------------------------------------------------------------------\n",
      "\u001b[1;38;5;39mCOMET INFO:\u001b[0m Comet.ml Experiment Summary\n",
      "\u001b[1;38;5;39mCOMET INFO:\u001b[0m ---------------------------------------------------------------------------------------\n",
      "\u001b[1;38;5;39mCOMET INFO:\u001b[0m   Data:\n",
      "\u001b[1;38;5;39mCOMET INFO:\u001b[0m     display_summary_level : 1\n",
      "\u001b[1;38;5;39mCOMET INFO:\u001b[0m     url                   : https://www.comet.com/makhambi/hackerthorn-makhambi/606625adb36f4a999973a9095650cdde\n",
      "\u001b[1;38;5;39mCOMET INFO:\u001b[0m   Metrics:\n",
      "\u001b[1;38;5;39mCOMET INFO:\u001b[0m     f1        : 0.9976614996066371\n",
      "\u001b[1;38;5;39mCOMET INFO:\u001b[0m     precision : 0.9976627521958363\n",
      "\u001b[1;38;5;39mCOMET INFO:\u001b[0m     recall    : 0.9976623376623377\n",
      "\u001b[1;38;5;39mCOMET INFO:\u001b[0m   Parameters:\n",
      "\u001b[1;38;5;39mCOMET INFO:\u001b[0m     C                             : 0.3\n",
      "\u001b[1;38;5;39mCOMET INFO:\u001b[0m     algorithm                     : auto\n",
      "\u001b[1;38;5;39mCOMET INFO:\u001b[0m     alpha                         : 1.0\n",
      "\u001b[1;38;5;39mCOMET INFO:\u001b[0m     bootstrap                     : True\n",
      "\u001b[1;38;5;39mCOMET INFO:\u001b[0m     ccp_alpha                     : 0.0\n",
      "\u001b[1;38;5;39mCOMET INFO:\u001b[0m     class_prior                   : None\n",
      "\u001b[1;38;5;39mCOMET INFO:\u001b[0m     class_weight                  : balanced\n",
      "\u001b[1;38;5;39mCOMET INFO:\u001b[0m     clf_C                         : 0.3\n",
      "\u001b[1;38;5;39mCOMET INFO:\u001b[0m     clf__C                        : 0.3\n",
      "\u001b[1;38;5;39mCOMET INFO:\u001b[0m     clf__algorithm                : auto\n",
      "\u001b[1;38;5;39mCOMET INFO:\u001b[0m     clf__alpha                    : 1.0\n",
      "\u001b[1;38;5;39mCOMET INFO:\u001b[0m     clf__bootstrap                : True\n",
      "\u001b[1;38;5;39mCOMET INFO:\u001b[0m     clf__ccp_alpha                : 0.0\n",
      "\u001b[1;38;5;39mCOMET INFO:\u001b[0m     clf__class_prior              : None\n",
      "\u001b[1;38;5;39mCOMET INFO:\u001b[0m     clf__class_weight             : balanced\n",
      "\u001b[1;38;5;39mCOMET INFO:\u001b[0m     clf__criterion                : gini\n",
      "\u001b[1;38;5;39mCOMET INFO:\u001b[0m     clf__dual                     : warn\n",
      "\u001b[1;38;5;39mCOMET INFO:\u001b[0m     clf__fit_intercept            : True\n",
      "\u001b[1;38;5;39mCOMET INFO:\u001b[0m     clf__fit_prior                : True\n",
      "\u001b[1;38;5;39mCOMET INFO:\u001b[0m     clf__force_alpha              : True\n",
      "\u001b[1;38;5;39mCOMET INFO:\u001b[0m     clf__intercept_scaling        : 1\n",
      "\u001b[1;38;5;39mCOMET INFO:\u001b[0m     clf__l1_ratio                 : None\n",
      "\u001b[1;38;5;39mCOMET INFO:\u001b[0m     clf__leaf_size                : 30\n",
      "\u001b[1;38;5;39mCOMET INFO:\u001b[0m     clf__loss                     : squared_hinge\n",
      "\u001b[1;38;5;39mCOMET INFO:\u001b[0m     clf__max_depth                : 10\n",
      "\u001b[1;38;5;39mCOMET INFO:\u001b[0m     clf__max_features             : sqrt\n",
      "\u001b[1;38;5;39mCOMET INFO:\u001b[0m     clf__max_iter                 : 100\n",
      "\u001b[1;38;5;39mCOMET INFO:\u001b[0m     clf__max_leaf_nodes           : None\n",
      "\u001b[1;38;5;39mCOMET INFO:\u001b[0m     clf__max_samples              : None\n",
      "\u001b[1;38;5;39mCOMET INFO:\u001b[0m     clf__metric                   : minkowski\n",
      "\u001b[1;38;5;39mCOMET INFO:\u001b[0m     clf__metric_params            : None\n",
      "\u001b[1;38;5;39mCOMET INFO:\u001b[0m     clf__min_impurity_decrease    : 0.0\n",
      "\u001b[1;38;5;39mCOMET INFO:\u001b[0m     clf__min_samples_leaf         : 1\n",
      "\u001b[1;38;5;39mCOMET INFO:\u001b[0m     clf__min_samples_split        : 2\n",
      "\u001b[1;38;5;39mCOMET INFO:\u001b[0m     clf__min_weight_fraction_leaf : 0.0\n",
      "\u001b[1;38;5;39mCOMET INFO:\u001b[0m     clf__monotonic_cst            : None\n",
      "\u001b[1;38;5;39mCOMET INFO:\u001b[0m     clf__multi_class              : ovr\n",
      "\u001b[1;38;5;39mCOMET INFO:\u001b[0m     clf__n_estimators             : 1000\n",
      "\u001b[1;38;5;39mCOMET INFO:\u001b[0m     clf__n_jobs                   : None\n",
      "\u001b[1;38;5;39mCOMET INFO:\u001b[0m     clf__n_neighbors              : 5\n",
      "\u001b[1;38;5;39mCOMET INFO:\u001b[0m     clf__oob_score                : False\n",
      "\u001b[1;38;5;39mCOMET INFO:\u001b[0m     clf__p                        : 2\n",
      "\u001b[1;38;5;39mCOMET INFO:\u001b[0m     clf__penalty                  : l2\n",
      "\u001b[1;38;5;39mCOMET INFO:\u001b[0m     clf__random_state             : None\n",
      "\u001b[1;38;5;39mCOMET INFO:\u001b[0m     clf__solver                   : lbfgs\n",
      "\u001b[1;38;5;39mCOMET INFO:\u001b[0m     clf__tol                      : 0.0001\n",
      "\u001b[1;38;5;39mCOMET INFO:\u001b[0m     clf__verbose                  : 0\n",
      "\u001b[1;38;5;39mCOMET INFO:\u001b[0m     clf__warm_start               : False\n",
      "\u001b[1;38;5;39mCOMET INFO:\u001b[0m     clf__weights                  : uniform\n",
      "\u001b[1;38;5;39mCOMET INFO:\u001b[0m     clf_algorithm                 : auto\n",
      "\u001b[1;38;5;39mCOMET INFO:\u001b[0m     clf_alpha                     : 1.0\n",
      "\u001b[1;38;5;39mCOMET INFO:\u001b[0m     clf_bootstrap                 : True\n",
      "\u001b[1;38;5;39mCOMET INFO:\u001b[0m     clf_ccp_alpha                 : 0.0\n",
      "\u001b[1;38;5;39mCOMET INFO:\u001b[0m     clf_class_prior               : None\n",
      "\u001b[1;38;5;39mCOMET INFO:\u001b[0m     clf_class_weight              : balanced\n",
      "\u001b[1;38;5;39mCOMET INFO:\u001b[0m     clf_criterion                 : gini\n",
      "\u001b[1;38;5;39mCOMET INFO:\u001b[0m     clf_dual                      : warn\n",
      "\u001b[1;38;5;39mCOMET INFO:\u001b[0m     clf_fit_intercept             : True\n",
      "\u001b[1;38;5;39mCOMET INFO:\u001b[0m     clf_fit_prior                 : True\n",
      "\u001b[1;38;5;39mCOMET INFO:\u001b[0m     clf_force_alpha               : True\n",
      "\u001b[1;38;5;39mCOMET INFO:\u001b[0m     clf_intercept_scaling         : 1\n",
      "\u001b[1;38;5;39mCOMET INFO:\u001b[0m     clf_l1_ratio                  : None\n",
      "\u001b[1;38;5;39mCOMET INFO:\u001b[0m     clf_leaf_size                 : 30\n",
      "\u001b[1;38;5;39mCOMET INFO:\u001b[0m     clf_loss                      : squared_hinge\n",
      "\u001b[1;38;5;39mCOMET INFO:\u001b[0m     clf_max_depth                 : 10\n",
      "\u001b[1;38;5;39mCOMET INFO:\u001b[0m     clf_max_features              : sqrt\n",
      "\u001b[1;38;5;39mCOMET INFO:\u001b[0m     clf_max_iter                  : 100\n",
      "\u001b[1;38;5;39mCOMET INFO:\u001b[0m     clf_max_leaf_nodes            : None\n",
      "\u001b[1;38;5;39mCOMET INFO:\u001b[0m     clf_max_samples               : None\n",
      "\u001b[1;38;5;39mCOMET INFO:\u001b[0m     clf_metric                    : minkowski\n",
      "\u001b[1;38;5;39mCOMET INFO:\u001b[0m     clf_metric_params             : None\n",
      "\u001b[1;38;5;39mCOMET INFO:\u001b[0m     clf_min_impurity_decrease     : 0.0\n",
      "\u001b[1;38;5;39mCOMET INFO:\u001b[0m     clf_min_samples_leaf          : 1\n",
      "\u001b[1;38;5;39mCOMET INFO:\u001b[0m     clf_min_samples_split         : 2\n",
      "\u001b[1;38;5;39mCOMET INFO:\u001b[0m     clf_min_weight_fraction_leaf  : 0.0\n",
      "\u001b[1;38;5;39mCOMET INFO:\u001b[0m     clf_monotonic_cst             : None\n",
      "\u001b[1;38;5;39mCOMET INFO:\u001b[0m     clf_multi_class               : ovr\n",
      "\u001b[1;38;5;39mCOMET INFO:\u001b[0m     clf_n_estimators              : 1000\n",
      "\u001b[1;38;5;39mCOMET INFO:\u001b[0m     clf_n_jobs                    : None\n",
      "\u001b[1;38;5;39mCOMET INFO:\u001b[0m     clf_n_neighbors               : 5\n",
      "\u001b[1;38;5;39mCOMET INFO:\u001b[0m     clf_oob_score                 : False\n",
      "\u001b[1;38;5;39mCOMET INFO:\u001b[0m     clf_p                         : 2\n",
      "\u001b[1;38;5;39mCOMET INFO:\u001b[0m     clf_penalty                   : l2\n",
      "\u001b[1;38;5;39mCOMET INFO:\u001b[0m     clf_random_state              : None\n",
      "\u001b[1;38;5;39mCOMET INFO:\u001b[0m     clf_solver                    : lbfgs\n",
      "\u001b[1;38;5;39mCOMET INFO:\u001b[0m     clf_tol                       : 0.0001\n",
      "\u001b[1;38;5;39mCOMET INFO:\u001b[0m     clf_verbose                   : 0\n",
      "\u001b[1;38;5;39mCOMET INFO:\u001b[0m     clf_warm_start                : False\n",
      "\u001b[1;38;5;39mCOMET INFO:\u001b[0m     clf_weights                   : uniform\n",
      "\u001b[1;38;5;39mCOMET INFO:\u001b[0m     criterion                     : gini\n",
      "\u001b[1;38;5;39mCOMET INFO:\u001b[0m     dual                          : warn\n",
      "\u001b[1;38;5;39mCOMET INFO:\u001b[0m     fit_intercept                 : True\n",
      "\u001b[1;38;5;39mCOMET INFO:\u001b[0m     fit_prior                     : True\n",
      "\u001b[1;38;5;39mCOMET INFO:\u001b[0m     force_alpha                   : True\n",
      "\u001b[1;38;5;39mCOMET INFO:\u001b[0m     intercept_scaling             : 1\n",
      "\u001b[1;38;5;39mCOMET INFO:\u001b[0m     l1_ratio                      : None\n",
      "\u001b[1;38;5;39mCOMET INFO:\u001b[0m     leaf_size                     : 30\n",
      "\u001b[1;38;5;39mCOMET INFO:\u001b[0m     loss                          : squared_hinge\n",
      "\u001b[1;38;5;39mCOMET INFO:\u001b[0m     max_depth                     : 10\n",
      "\u001b[1;38;5;39mCOMET INFO:\u001b[0m     max_df                        : 0.8\n",
      "\u001b[1;38;5;39mCOMET INFO:\u001b[0m     max_features                  : sqrt\n",
      "\u001b[1;38;5;39mCOMET INFO:\u001b[0m     max_iter                      : 10000\n",
      "\u001b[1;38;5;39mCOMET INFO:\u001b[0m     max_leaf_nodes                : None\n",
      "\u001b[1;38;5;39mCOMET INFO:\u001b[0m     max_samples                   : None\n",
      "\u001b[1;38;5;39mCOMET INFO:\u001b[0m     memory                        : None\n",
      "\u001b[1;38;5;39mCOMET INFO:\u001b[0m     metric                        : minkowski\n",
      "\u001b[1;38;5;39mCOMET INFO:\u001b[0m     metric_params                 : None\n",
      "\u001b[1;38;5;39mCOMET INFO:\u001b[0m     min_df                        : 2\n",
      "\u001b[1;38;5;39mCOMET INFO:\u001b[0m     min_impurity_decrease         : 0.0\n",
      "\u001b[1;38;5;39mCOMET INFO:\u001b[0m     min_samples_leaf              : 1\n",
      "\u001b[1;38;5;39mCOMET INFO:\u001b[0m     min_samples_split             : 2\n",
      "\u001b[1;38;5;39mCOMET INFO:\u001b[0m     min_weight_fraction_leaf      : 0.0\n",
      "\u001b[1;38;5;39mCOMET INFO:\u001b[0m     model_type                    : lsvc_op\n",
      "\u001b[1;38;5;39mCOMET INFO:\u001b[0m     monotonic_cst                 : None\n",
      "\u001b[1;38;5;39mCOMET INFO:\u001b[0m     multi_class                   : ovr\n",
      "\u001b[1;38;5;39mCOMET INFO:\u001b[0m     n_estimators                  : 1000\n",
      "\u001b[1;38;5;39mCOMET INFO:\u001b[0m     n_jobs                        : None\n",
      "\u001b[1;38;5;39mCOMET INFO:\u001b[0m     n_neighbors                   : 5\n",
      "\u001b[1;38;5;39mCOMET INFO:\u001b[0m     neg_label                     : 0\n",
      "\u001b[1;38;5;39mCOMET INFO:\u001b[0m     ngram_range                   : (1, 3)\n",
      "\u001b[1;38;5;39mCOMET INFO:\u001b[0m     norm                          : l2\n",
      "\u001b[1;38;5;39mCOMET INFO:\u001b[0m     oob_score                     : False\n",
      "\u001b[1;38;5;39mCOMET INFO:\u001b[0m     p                             : 2\n",
      "\u001b[1;38;5;39mCOMET INFO:\u001b[0m     penalty                       : l2\n",
      "\u001b[1;38;5;39mCOMET INFO:\u001b[0m     pos_label                     : 1\n",
      "\u001b[1;38;5;39mCOMET INFO:\u001b[0m     random_state                  : 42\n",
      "\u001b[1;38;5;39mCOMET INFO:\u001b[0m     smooth_idf                    : True\n",
      "\u001b[1;38;5;39mCOMET INFO:\u001b[0m     solver                        : lbfgs\n",
      "\u001b[1;38;5;39mCOMET INFO:\u001b[0m     sparse_output                 : False\n",
      "\u001b[1;38;5;39mCOMET INFO:\u001b[0m     sublinear_tf                  : False\n",
      "\u001b[1;38;5;39mCOMET INFO:\u001b[0m     tfidf__analyzer               : word\n",
      "\u001b[1;38;5;39mCOMET INFO:\u001b[0m     tfidf__binary                 : False\n",
      "\u001b[1;38;5;39mCOMET INFO:\u001b[0m     tfidf__decode_error           : strict\n",
      "\u001b[1;38;5;39mCOMET INFO:\u001b[0m     tfidf__dtype                  : <class 'numpy.float64'>\n",
      "\u001b[1;38;5;39mCOMET INFO:\u001b[0m     tfidf__encoding               : utf-8\n",
      "\u001b[1;38;5;39mCOMET INFO:\u001b[0m     tfidf__input                  : content\n",
      "\u001b[1;38;5;39mCOMET INFO:\u001b[0m     tfidf__lowercase              : True\n",
      "\u001b[1;38;5;39mCOMET INFO:\u001b[0m     tfidf__max_df                 : 0.8\n",
      "\u001b[1;38;5;39mCOMET INFO:\u001b[0m     tfidf__max_features           : None\n",
      "\u001b[1;38;5;39mCOMET INFO:\u001b[0m     tfidf__min_df                 : 2\n",
      "\u001b[1;38;5;39mCOMET INFO:\u001b[0m     tfidf__ngram_range            : (1, 2)\n",
      "\u001b[1;38;5;39mCOMET INFO:\u001b[0m     tfidf__norm                   : l2\n",
      "\u001b[1;38;5;39mCOMET INFO:\u001b[0m     tfidf__preprocessor           : None\n",
      "\u001b[1;38;5;39mCOMET INFO:\u001b[0m     tfidf__smooth_idf             : True\n",
      "\u001b[1;38;5;39mCOMET INFO:\u001b[0m     tfidf__stop_words             : None\n",
      "\u001b[1;38;5;39mCOMET INFO:\u001b[0m     tfidf__strip_accents          : None\n",
      "\u001b[1;38;5;39mCOMET INFO:\u001b[0m     tfidf__sublinear_tf           : False\n",
      "\u001b[1;38;5;39mCOMET INFO:\u001b[0m     tfidf__token_pattern          : (?u)\\b\\w\\w+\\b\n",
      "\u001b[1;38;5;39mCOMET INFO:\u001b[0m     tfidf__tokenizer              : None\n",
      "\u001b[1;38;5;39mCOMET INFO:\u001b[0m     tfidf__use_idf                : True\n",
      "\u001b[1;38;5;39mCOMET INFO:\u001b[0m     tfidf__vocabulary             : None\n",
      "\u001b[1;38;5;39mCOMET INFO:\u001b[0m     tfidf_analyzer                : word\n",
      "\u001b[1;38;5;39mCOMET INFO:\u001b[0m     tfidf_binary                  : False\n",
      "\u001b[1;38;5;39mCOMET INFO:\u001b[0m     tfidf_decode_error            : strict\n",
      "\u001b[1;38;5;39mCOMET INFO:\u001b[0m     tfidf_dtype                   : <class 'numpy.float64'>\n",
      "\u001b[1;38;5;39mCOMET INFO:\u001b[0m     tfidf_encoding                : utf-8\n",
      "\u001b[1;38;5;39mCOMET INFO:\u001b[0m     tfidf_input                   : content\n",
      "\u001b[1;38;5;39mCOMET INFO:\u001b[0m     tfidf_lowercase               : True\n",
      "\u001b[1;38;5;39mCOMET INFO:\u001b[0m     tfidf_max_df                  : 0.8\n",
      "\u001b[1;38;5;39mCOMET INFO:\u001b[0m     tfidf_max_features            : None\n",
      "\u001b[1;38;5;39mCOMET INFO:\u001b[0m     tfidf_min_df                  : 2\n",
      "\u001b[1;38;5;39mCOMET INFO:\u001b[0m     tfidf_ngram_range             : (1, 2)\n",
      "\u001b[1;38;5;39mCOMET INFO:\u001b[0m     tfidf_norm                    : l2\n",
      "\u001b[1;38;5;39mCOMET INFO:\u001b[0m     tfidf_preprocessor            : None\n",
      "\u001b[1;38;5;39mCOMET INFO:\u001b[0m     tfidf_smooth_idf              : True\n",
      "\u001b[1;38;5;39mCOMET INFO:\u001b[0m     tfidf_stop_words              : None\n",
      "\u001b[1;38;5;39mCOMET INFO:\u001b[0m     tfidf_strip_accents           : None\n",
      "\u001b[1;38;5;39mCOMET INFO:\u001b[0m     tfidf_sublinear_tf            : False\n",
      "\u001b[1;38;5;39mCOMET INFO:\u001b[0m     tfidf_token_pattern           : (?u)\\b\\w\\w+\\b\n",
      "\u001b[1;38;5;39mCOMET INFO:\u001b[0m     tfidf_tokenizer               : None\n",
      "\u001b[1;38;5;39mCOMET INFO:\u001b[0m     tfidf_use_idf                 : True\n",
      "\u001b[1;38;5;39mCOMET INFO:\u001b[0m     tfidf_vocabulary              : None\n",
      "\u001b[1;38;5;39mCOMET INFO:\u001b[0m     tol                           : 0.0001\n",
      "\u001b[1;38;5;39mCOMET INFO:\u001b[0m     use_idf                       : True\n",
      "\u001b[1;38;5;39mCOMET INFO:\u001b[0m     verbose                       : False\n",
      "\u001b[1;38;5;39mCOMET INFO:\u001b[0m     warm_start                    : False\n",
      "\u001b[1;38;5;39mCOMET INFO:\u001b[0m     weights                       : uniform\n",
      "\u001b[1;38;5;39mCOMET INFO:\u001b[0m   Uploads:\n",
      "\u001b[1;38;5;39mCOMET INFO:\u001b[0m     conda-environment-definition : 1\n",
      "\u001b[1;38;5;39mCOMET INFO:\u001b[0m     conda-info                   : 1\n",
      "\u001b[1;38;5;39mCOMET INFO:\u001b[0m     conda-specification          : 1\n",
      "\u001b[1;38;5;39mCOMET INFO:\u001b[0m     environment details          : 1\n",
      "\u001b[1;38;5;39mCOMET INFO:\u001b[0m     filename                     : 1\n",
      "\u001b[1;38;5;39mCOMET INFO:\u001b[0m     installed packages           : 1\n",
      "\u001b[1;38;5;39mCOMET INFO:\u001b[0m     notebook                     : 1\n",
      "\u001b[1;38;5;39mCOMET INFO:\u001b[0m     source_code                  : 1\n",
      "\u001b[1;38;5;39mCOMET INFO:\u001b[0m \n"
     ]
    }
   ],
   "source": [
    "experiment.end()"
   ]
  },
  {
   "cell_type": "markdown",
   "id": "7c8cc00f",
   "metadata": {},
   "source": [
    " <a id=\"eight\"></a>\n",
    "## 8. Submission\n",
    "<a href=#cont>Back to Table of Contents</a>\n"
   ]
  },
  {
   "cell_type": "code",
   "execution_count": 107,
   "id": "8f109586",
   "metadata": {},
   "outputs": [
    {
     "name": "stderr",
     "output_type": "stream",
     "text": [
      "C:\\Users\\Amkela Dlamini\\AppData\\Local\\Temp\\ipykernel_12836\\2348029769.py:5: SettingWithCopyWarning: \n",
      "A value is trying to be set on a copy of a slice from a DataFrame\n",
      "\n",
      "See the caveats in the documentation: https://pandas.pydata.org/pandas-docs/stable/user_guide/indexing.html#returning-a-view-versus-a-copy\n",
      "  test['text'][i] = re.sub(r\"(@[A-Za-z0-9_]+)|[^\\w\\s]|http\\S+\",\"\",test['text'][i])\n"
     ]
    },
    {
     "data": {
      "text/html": [
       "<div>\n",
       "<style scoped>\n",
       "    .dataframe tbody tr th:only-of-type {\n",
       "        vertical-align: middle;\n",
       "    }\n",
       "\n",
       "    .dataframe tbody tr th {\n",
       "        vertical-align: top;\n",
       "    }\n",
       "\n",
       "    .dataframe thead th {\n",
       "        text-align: right;\n",
       "    }\n",
       "</style>\n",
       "<table border=\"1\" class=\"dataframe\">\n",
       "  <thead>\n",
       "    <tr style=\"text-align: right;\">\n",
       "      <th></th>\n",
       "      <th>index</th>\n",
       "      <th>lang_id</th>\n",
       "    </tr>\n",
       "  </thead>\n",
       "  <tbody>\n",
       "    <tr>\n",
       "      <th>0</th>\n",
       "      <td>1</td>\n",
       "      <td>tsn</td>\n",
       "    </tr>\n",
       "    <tr>\n",
       "      <th>1</th>\n",
       "      <td>2</td>\n",
       "      <td>nbl</td>\n",
       "    </tr>\n",
       "    <tr>\n",
       "      <th>2</th>\n",
       "      <td>3</td>\n",
       "      <td>ven</td>\n",
       "    </tr>\n",
       "    <tr>\n",
       "      <th>3</th>\n",
       "      <td>4</td>\n",
       "      <td>ssw</td>\n",
       "    </tr>\n",
       "    <tr>\n",
       "      <th>4</th>\n",
       "      <td>5</td>\n",
       "      <td>afr</td>\n",
       "    </tr>\n",
       "    <tr>\n",
       "      <th>...</th>\n",
       "      <td>...</td>\n",
       "      <td>...</td>\n",
       "    </tr>\n",
       "    <tr>\n",
       "      <th>5677</th>\n",
       "      <td>5678</td>\n",
       "      <td>eng</td>\n",
       "    </tr>\n",
       "    <tr>\n",
       "      <th>5678</th>\n",
       "      <td>5679</td>\n",
       "      <td>nso</td>\n",
       "    </tr>\n",
       "    <tr>\n",
       "      <th>5679</th>\n",
       "      <td>5680</td>\n",
       "      <td>sot</td>\n",
       "    </tr>\n",
       "    <tr>\n",
       "      <th>5680</th>\n",
       "      <td>5681</td>\n",
       "      <td>sot</td>\n",
       "    </tr>\n",
       "    <tr>\n",
       "      <th>5681</th>\n",
       "      <td>5682</td>\n",
       "      <td>xho</td>\n",
       "    </tr>\n",
       "  </tbody>\n",
       "</table>\n",
       "<p>5682 rows × 2 columns</p>\n",
       "</div>"
      ],
      "text/plain": [
       "      index lang_id\n",
       "0         1     tsn\n",
       "1         2     nbl\n",
       "2         3     ven\n",
       "3         4     ssw\n",
       "4         5     afr\n",
       "...     ...     ...\n",
       "5677   5678     eng\n",
       "5678   5679     nso\n",
       "5679   5680     sot\n",
       "5680   5681     sot\n",
       "5681   5682     xho\n",
       "\n",
       "[5682 rows x 2 columns]"
      ]
     },
     "execution_count": 107,
     "metadata": {},
     "output_type": "execute_result"
    }
   ],
   "source": [
    "test = pd.read_csv('test_set.csv')\n",
    "\n",
    "\n",
    "for i in range (len(test['text'])):\n",
    "    test['text'][i] = re.sub(r\"(@[A-Za-z0-9_]+)|[^\\w\\s]|http\\S+\",\"\",test['text'][i])\n",
    "\n",
    "test_pred = nb.predict(test['text'])\n",
    "\n",
    "output = pd.DataFrame({'index': test['index'],\n",
    "                       'lang_id': test_pred})\n",
    "\n",
    "output.to_csv('submission-Makhambi2.csv', index=False)\n",
    "\n",
    "output"
   ]
  }
 ],
 "metadata": {
  "kernelspec": {
   "display_name": "Python 3 (ipykernel)",
   "language": "python",
   "name": "python3"
  },
  "language_info": {
   "codemirror_mode": {
    "name": "ipython",
    "version": 3
   },
   "file_extension": ".py",
   "mimetype": "text/x-python",
   "name": "python",
   "nbconvert_exporter": "python",
   "pygments_lexer": "ipython3",
   "version": "3.11.4"
  },
  "latex_envs": {
   "LaTeX_envs_menu_present": true,
   "autoclose": false,
   "autocomplete": true,
   "bibliofile": "biblio.bib",
   "cite_by": "apalike",
   "current_citInitial": 1,
   "eqLabelWithNumbers": true,
   "eqNumInitial": 1,
   "hotkeys": {
    "equation": "Ctrl-E",
    "itemize": "Ctrl-I"
   },
   "labels_anchors": false,
   "latex_user_defs": false,
   "report_style_numbering": false,
   "user_envs_cfg": false
  },
  "toc": {
   "base_numbering": 1,
   "nav_menu": {},
   "number_sections": true,
   "sideBar": true,
   "skip_h1_title": false,
   "title_cell": "Table of Contents",
   "title_sidebar": "Contents",
   "toc_cell": false,
   "toc_position": {},
   "toc_section_display": true,
   "toc_window_display": false
  },
  "varInspector": {
   "cols": {
    "lenName": 16,
    "lenType": 16,
    "lenVar": 40
   },
   "kernels_config": {
    "python": {
     "delete_cmd_postfix": "",
     "delete_cmd_prefix": "del ",
     "library": "var_list.py",
     "varRefreshCmd": "print(var_dic_list())"
    },
    "r": {
     "delete_cmd_postfix": ") ",
     "delete_cmd_prefix": "rm(",
     "library": "var_list.r",
     "varRefreshCmd": "cat(var_dic_list()) "
    }
   },
   "types_to_exclude": [
    "module",
    "function",
    "builtin_function_or_method",
    "instance",
    "_Feature"
   ],
   "window_display": false
  }
 },
 "nbformat": 4,
 "nbformat_minor": 5
}
